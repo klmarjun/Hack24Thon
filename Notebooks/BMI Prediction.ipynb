{
 "cells": [
  {
   "cell_type": "markdown",
   "metadata": {
    "cell_id": "00000-0790275d-4783-433a-8952-93abab556b9c",
    "deepnote_cell_type": "markdown",
    "tags": []
   },
   "source": [
    "<center>\n",
    "<h1 class=\"list-group-item list-group-item-success\" style=\"color:rgb(0,0,150)\">\n",
    "PREDICTION OF BODY MASS INDEX\n",
    "</h1>\n",
    "\n",
    "<img\n",
    "src=\"https://us.123rf.com/450wm/anatolymas/anatolymas1707/anatolymas170700002/81594462-3d-small-person-reaches-for-help-button-3d-image-white-background-.jpg?ver=6\"\n",
    "style=\"width: 30%\"\n",
    "/>\n",
    "</center>\n",
    "<h3 style=\"font-weight: bold\">Context</h3>\n",
    "<p>\n",
    "Body mass index is a value derived from the mass and height of a person. The BMI is defined as the body mass divided by the square of the body height, and is expressed in units of kg/m², resulting from mass in kilograms and height in metres.\n",
    "</p>\n",
    "\n",
    "<h3 style=\"font-weight: bold\">Content</h3>\n",
    "\n",
    "<p>\n",
    "The dataset contains information about gender, height, weight and BMI index of\n",
    "individuals\n",
    "</p>\n",
    "<p></p>\n",
    "\n",
    "<p><span style=\"font-weight: bold\">Gender :</span> Male / Female</p>\n",
    "<p><span style=\"font-weight: bold\">Height :</span> Age (cm)</p>\n",
    "<p><span style=\"font-weight: bold\">Height :</span> Number (cm)</p>\n",
    "<p><span style=\"font-weight: bold\">Weight :</span> Number (Kg)</p>\n",
    "<p><span style=\"font-weight: bold\">Index :</span></p>\n",
    "<ul type=\"square\">\n",
    "<li>less than 18.5 - Under Weight</li>\n",
    "<li>18.5 to 24.9 - Normal</li>\n",
    "<li>25.0 to 29.9 - Overweight</li>\n",
    "<li>30.0 to 34.9 - Obese</li>\n",
    "<li>more than 35.0 - Extremely Obese</li>\n",
    "</ul>\n",
    "\n",
    "<h3 style=\"font-weight: bold\">Contents:</h3>\n",
    "<ul type=\"square\" style=\"color:blue\">\n",
    "<li>Importing Packages</li>\n",
    "<li>Importing Data</li>\n",
    "<li>Analysing Data</li>\n",
    "<li>Data Overview</li>\n",
    "<li>Ordinal encoding</li>\n",
    "<li>Model Comparsion</li>\n",
    "<li>Data Transformation</li>\n",
    "<li>Predicting the BMI Index</li>\n",
    "<li>Evaluation Metrics</li>\n",
    "</ul>"
   ]
  },
  {
   "cell_type": "markdown",
   "metadata": {
    "cell_id": "00001-471bbdb8-5b8a-4268-b93e-3708f40531b7",
    "deepnote_cell_type": "markdown",
    "tags": []
   },
   "source": [
    "# Importing Packages"
   ]
  },
  {
   "cell_type": "code",
   "execution_count": 1,
   "metadata": {
    "cell_id": "00000-02403ae0-125f-492e-b780-ec0016853bfa",
    "deepnote_cell_type": "code",
    "deepnote_to_be_reexecuted": false,
    "execution_millis": 2769,
    "execution_start": 1616768868634,
    "source_hash": "8576fb11",
    "tags": []
   },
   "outputs": [],
   "source": [
    "import pandas as pd\n",
    "import numpy as np\n",
    "from pycaret.regression import *\n",
    "import category_encoders as ce\n",
    "from sklearn.discriminant_analysis import QuadraticDiscriminantAnalysis\n",
    "from sklearn.model_selection import train_test_split\n",
    "from sklearn.metrics import r2_score,mean_squared_log_error,mean_absolute_error,mean_squared_error\n",
    "\n",
    "import pickle\n",
    "from sklearn.ensemble import ExtraTreesRegressor,RandomForestRegressor\n",
    "from sklearn.tree import DecisionTreeRegressor"
   ]
  },
  {
   "cell_type": "markdown",
   "metadata": {
    "cell_id": "00003-14e21f77-93b7-4997-b477-ee3c96010a13",
    "deepnote_cell_type": "markdown",
    "tags": []
   },
   "source": [
    "# Importing Data"
   ]
  },
  {
   "cell_type": "code",
   "execution_count": 2,
   "metadata": {
    "cell_id": "00001-4d7af343-ce69-40ec-9c37-9105e90cf055",
    "deepnote_cell_type": "code",
    "deepnote_to_be_reexecuted": false,
    "execution_millis": 4,
    "execution_start": 1616768871406,
    "source_hash": "fee7ddea",
    "tags": []
   },
   "outputs": [],
   "source": [
    "df = pd.read_csv(\"../Data/bmi_data.csv\")"
   ]
  },
  {
   "cell_type": "markdown",
   "metadata": {
    "cell_id": "00005-97c90f17-64fe-4f02-8541-47632ad71566",
    "deepnote_cell_type": "markdown",
    "tags": []
   },
   "source": [
    "# Analysing Data"
   ]
  },
  {
   "cell_type": "code",
   "execution_count": 3,
   "metadata": {
    "cell_id": "00002-45840c9f-7cd2-456d-bfae-70d7f56e6864",
    "deepnote_cell_type": "code",
    "deepnote_to_be_reexecuted": false,
    "execution_millis": 175,
    "execution_start": 1616768871430,
    "source_hash": "f804c160",
    "tags": []
   },
   "outputs": [
    {
     "data": {
      "text/html": [
       "<div>\n",
       "<style scoped>\n",
       "    .dataframe tbody tr th:only-of-type {\n",
       "        vertical-align: middle;\n",
       "    }\n",
       "\n",
       "    .dataframe tbody tr th {\n",
       "        vertical-align: top;\n",
       "    }\n",
       "\n",
       "    .dataframe thead th {\n",
       "        text-align: right;\n",
       "    }\n",
       "</style>\n",
       "<table border=\"1\" class=\"dataframe\">\n",
       "  <thead>\n",
       "    <tr style=\"text-align: right;\">\n",
       "      <th></th>\n",
       "      <th>Sex</th>\n",
       "      <th>Age</th>\n",
       "      <th>Height(Inches)</th>\n",
       "      <th>Weight(Pounds)</th>\n",
       "      <th>BMI</th>\n",
       "    </tr>\n",
       "  </thead>\n",
       "  <tbody>\n",
       "    <tr>\n",
       "      <th>0</th>\n",
       "      <td>Female</td>\n",
       "      <td>21</td>\n",
       "      <td>65.78331</td>\n",
       "      <td>112.9925</td>\n",
       "      <td>18.357646</td>\n",
       "    </tr>\n",
       "    <tr>\n",
       "      <th>1</th>\n",
       "      <td>Female</td>\n",
       "      <td>35</td>\n",
       "      <td>71.51521</td>\n",
       "      <td>136.4873</td>\n",
       "      <td>18.762652</td>\n",
       "    </tr>\n",
       "    <tr>\n",
       "      <th>2</th>\n",
       "      <td>Female</td>\n",
       "      <td>27</td>\n",
       "      <td>69.39874</td>\n",
       "      <td>153.0269</td>\n",
       "      <td>22.338985</td>\n",
       "    </tr>\n",
       "    <tr>\n",
       "      <th>3</th>\n",
       "      <td>Male</td>\n",
       "      <td>24</td>\n",
       "      <td>68.21660</td>\n",
       "      <td>142.3354</td>\n",
       "      <td>21.504612</td>\n",
       "    </tr>\n",
       "    <tr>\n",
       "      <th>4</th>\n",
       "      <td>Female</td>\n",
       "      <td>18</td>\n",
       "      <td>67.78781</td>\n",
       "      <td>144.2971</td>\n",
       "      <td>22.077669</td>\n",
       "    </tr>\n",
       "    <tr>\n",
       "      <th>...</th>\n",
       "      <td>...</td>\n",
       "      <td>...</td>\n",
       "      <td>...</td>\n",
       "      <td>...</td>\n",
       "      <td>...</td>\n",
       "    </tr>\n",
       "    <tr>\n",
       "      <th>24995</th>\n",
       "      <td>Male</td>\n",
       "      <td>35</td>\n",
       "      <td>69.50215</td>\n",
       "      <td>118.0312</td>\n",
       "      <td>17.179051</td>\n",
       "    </tr>\n",
       "    <tr>\n",
       "      <th>24996</th>\n",
       "      <td>Male</td>\n",
       "      <td>26</td>\n",
       "      <td>64.54826</td>\n",
       "      <td>120.1932</td>\n",
       "      <td>20.281947</td>\n",
       "    </tr>\n",
       "    <tr>\n",
       "      <th>24997</th>\n",
       "      <td>Female</td>\n",
       "      <td>23</td>\n",
       "      <td>64.69855</td>\n",
       "      <td>118.2655</td>\n",
       "      <td>19.864050</td>\n",
       "    </tr>\n",
       "    <tr>\n",
       "      <th>24998</th>\n",
       "      <td>Male</td>\n",
       "      <td>20</td>\n",
       "      <td>67.52918</td>\n",
       "      <td>132.2682</td>\n",
       "      <td>20.392540</td>\n",
       "    </tr>\n",
       "    <tr>\n",
       "      <th>24999</th>\n",
       "      <td>Female</td>\n",
       "      <td>34</td>\n",
       "      <td>68.87761</td>\n",
       "      <td>124.8742</td>\n",
       "      <td>18.506121</td>\n",
       "    </tr>\n",
       "  </tbody>\n",
       "</table>\n",
       "<p>25000 rows × 5 columns</p>\n",
       "</div>"
      ],
      "text/plain": [
       "          Sex  Age  Height(Inches)  Weight(Pounds)        BMI\n",
       "0      Female   21        65.78331        112.9925  18.357646\n",
       "1      Female   35        71.51521        136.4873  18.762652\n",
       "2      Female   27        69.39874        153.0269  22.338985\n",
       "3        Male   24        68.21660        142.3354  21.504612\n",
       "4      Female   18        67.78781        144.2971  22.077669\n",
       "...       ...  ...             ...             ...        ...\n",
       "24995    Male   35        69.50215        118.0312  17.179051\n",
       "24996    Male   26        64.54826        120.1932  20.281947\n",
       "24997  Female   23        64.69855        118.2655  19.864050\n",
       "24998    Male   20        67.52918        132.2682  20.392540\n",
       "24999  Female   34        68.87761        124.8742  18.506121\n",
       "\n",
       "[25000 rows x 5 columns]"
      ]
     },
     "execution_count": 3,
     "metadata": {},
     "output_type": "execute_result"
    }
   ],
   "source": [
    "df"
   ]
  },
  {
   "cell_type": "code",
   "execution_count": 4,
   "metadata": {
    "cell_id": "00003-ffd7fe40-6696-4514-b103-7838d9c9e770",
    "deepnote_cell_type": "code",
    "deepnote_to_be_reexecuted": false,
    "execution_millis": 10,
    "execution_start": 1616768871561,
    "source_hash": "f3dd26da",
    "tags": []
   },
   "outputs": [
    {
     "data": {
      "text/plain": [
       "Sex                0\n",
       "Age                0\n",
       "Height(Inches)    19\n",
       "Weight(Pounds)    16\n",
       "BMI               50\n",
       "dtype: int64"
      ]
     },
     "execution_count": 4,
     "metadata": {},
     "output_type": "execute_result"
    }
   ],
   "source": [
    "df.isnull().sum()"
   ]
  },
  {
   "cell_type": "code",
   "execution_count": 5,
   "metadata": {
    "cell_id": "00004-d3d8b5f4-03d1-4151-b8f1-6f54420daecd",
    "deepnote_cell_type": "code",
    "deepnote_to_be_reexecuted": false,
    "execution_millis": 15,
    "execution_start": 1616768871624,
    "source_hash": "1dd01389",
    "tags": []
   },
   "outputs": [
    {
     "name": "stdout",
     "output_type": "stream",
     "text": [
      "Male      12590\n",
      "Female    12410\n",
      "Name: Sex, dtype: int64\n",
      "21    1457\n",
      "27    1431\n",
      "22    1429\n",
      "25    1427\n",
      "35    1412\n",
      "31    1406\n",
      "32    1393\n",
      "29    1385\n",
      "18    1385\n",
      "23    1381\n",
      "34    1378\n",
      "33    1376\n",
      "28    1374\n",
      "19    1371\n",
      "30    1364\n",
      "20    1360\n",
      "26    1349\n",
      "24    1322\n",
      "Name: Age, dtype: int64\n",
      "68.93456    3\n",
      "68.30287    3\n",
      "67.97769    3\n",
      "65.65796    3\n",
      "70.04724    3\n",
      "           ..\n",
      "65.16644    1\n",
      "68.49307    1\n",
      "65.09221    1\n",
      "66.70349    1\n",
      "68.87761    1\n",
      "Name: Height(Inches), Length: 24485, dtype: int64\n",
      "124.7975    4\n",
      "135.4161    3\n",
      "133.5585    3\n",
      "123.9844    3\n",
      "128.9968    3\n",
      "           ..\n",
      "107.6202    1\n",
      "116.0680    1\n",
      "122.9936    1\n",
      "148.1246    1\n",
      "124.8742    1\n",
      "Name: Weight(Pounds), Length: 24233, dtype: int64\n",
      "20.209992    2\n",
      "21.716004    2\n",
      "18.357646    1\n",
      "19.882030    1\n",
      "18.623394    1\n",
      "            ..\n",
      "18.343132    1\n",
      "19.087059    1\n",
      "14.017989    1\n",
      "19.049327    1\n",
      "18.506121    1\n",
      "Name: BMI, Length: 24948, dtype: int64\n"
     ]
    }
   ],
   "source": [
    "for i in df:\n",
    "    print(df[i].value_counts())"
   ]
  },
  {
   "cell_type": "code",
   "execution_count": 6,
   "metadata": {},
   "outputs": [],
   "source": [
    "df = df.dropna()\n",
    "df.reset_index(inplace=True,drop=True)"
   ]
  },
  {
   "cell_type": "markdown",
   "metadata": {
    "cell_id": "00009-57b8bb25-1dff-4d22-8a44-1f2e3419a128",
    "deepnote_cell_type": "markdown",
    "tags": []
   },
   "source": [
    "# Data Overview"
   ]
  },
  {
   "cell_type": "code",
   "execution_count": 7,
   "metadata": {
    "cell_id": "00005-dfdb8b3d-4d38-46a4-8be9-b19b23dc4bc7",
    "deepnote_cell_type": "code",
    "deepnote_to_be_reexecuted": false,
    "execution_millis": 9859,
    "execution_start": 1616768871625,
    "source_hash": "39c972e0",
    "tags": []
   },
   "outputs": [],
   "source": [
    "# ProfileReport(df)"
   ]
  },
  {
   "cell_type": "markdown",
   "metadata": {
    "cell_id": "00011-5d02ea38-0441-4b3c-8790-5cdb14e808c7",
    "deepnote_cell_type": "markdown",
    "tags": []
   },
   "source": [
    "# Ordinal encoding"
   ]
  },
  {
   "cell_type": "code",
   "execution_count": 8,
   "metadata": {
    "cell_id": "00006-d212e42d-b9c2-4011-aa05-52cf109bdd75",
    "deepnote_cell_type": "code",
    "deepnote_to_be_reexecuted": false,
    "execution_millis": 92,
    "execution_start": 1616768881459,
    "source_hash": "f0573acd",
    "tags": []
   },
   "outputs": [
    {
     "data": {
      "text/html": [
       "<div>\n",
       "<style scoped>\n",
       "    .dataframe tbody tr th:only-of-type {\n",
       "        vertical-align: middle;\n",
       "    }\n",
       "\n",
       "    .dataframe tbody tr th {\n",
       "        vertical-align: top;\n",
       "    }\n",
       "\n",
       "    .dataframe thead th {\n",
       "        text-align: right;\n",
       "    }\n",
       "</style>\n",
       "<table border=\"1\" class=\"dataframe\">\n",
       "  <thead>\n",
       "    <tr style=\"text-align: right;\">\n",
       "      <th></th>\n",
       "      <th>Sex</th>\n",
       "      <th>Age</th>\n",
       "      <th>Height(Inches)</th>\n",
       "      <th>Weight(Pounds)</th>\n",
       "      <th>BMI</th>\n",
       "    </tr>\n",
       "  </thead>\n",
       "  <tbody>\n",
       "    <tr>\n",
       "      <th>0</th>\n",
       "      <td>1</td>\n",
       "      <td>21</td>\n",
       "      <td>65.78331</td>\n",
       "      <td>112.9925</td>\n",
       "      <td>18.357646</td>\n",
       "    </tr>\n",
       "    <tr>\n",
       "      <th>1</th>\n",
       "      <td>1</td>\n",
       "      <td>35</td>\n",
       "      <td>71.51521</td>\n",
       "      <td>136.4873</td>\n",
       "      <td>18.762652</td>\n",
       "    </tr>\n",
       "    <tr>\n",
       "      <th>2</th>\n",
       "      <td>1</td>\n",
       "      <td>27</td>\n",
       "      <td>69.39874</td>\n",
       "      <td>153.0269</td>\n",
       "      <td>22.338985</td>\n",
       "    </tr>\n",
       "    <tr>\n",
       "      <th>3</th>\n",
       "      <td>0</td>\n",
       "      <td>24</td>\n",
       "      <td>68.21660</td>\n",
       "      <td>142.3354</td>\n",
       "      <td>21.504612</td>\n",
       "    </tr>\n",
       "    <tr>\n",
       "      <th>4</th>\n",
       "      <td>1</td>\n",
       "      <td>18</td>\n",
       "      <td>67.78781</td>\n",
       "      <td>144.2971</td>\n",
       "      <td>22.077669</td>\n",
       "    </tr>\n",
       "    <tr>\n",
       "      <th>...</th>\n",
       "      <td>...</td>\n",
       "      <td>...</td>\n",
       "      <td>...</td>\n",
       "      <td>...</td>\n",
       "      <td>...</td>\n",
       "    </tr>\n",
       "    <tr>\n",
       "      <th>24945</th>\n",
       "      <td>0</td>\n",
       "      <td>35</td>\n",
       "      <td>69.50215</td>\n",
       "      <td>118.0312</td>\n",
       "      <td>17.179051</td>\n",
       "    </tr>\n",
       "    <tr>\n",
       "      <th>24946</th>\n",
       "      <td>0</td>\n",
       "      <td>26</td>\n",
       "      <td>64.54826</td>\n",
       "      <td>120.1932</td>\n",
       "      <td>20.281947</td>\n",
       "    </tr>\n",
       "    <tr>\n",
       "      <th>24947</th>\n",
       "      <td>1</td>\n",
       "      <td>23</td>\n",
       "      <td>64.69855</td>\n",
       "      <td>118.2655</td>\n",
       "      <td>19.864050</td>\n",
       "    </tr>\n",
       "    <tr>\n",
       "      <th>24948</th>\n",
       "      <td>0</td>\n",
       "      <td>20</td>\n",
       "      <td>67.52918</td>\n",
       "      <td>132.2682</td>\n",
       "      <td>20.392540</td>\n",
       "    </tr>\n",
       "    <tr>\n",
       "      <th>24949</th>\n",
       "      <td>1</td>\n",
       "      <td>34</td>\n",
       "      <td>68.87761</td>\n",
       "      <td>124.8742</td>\n",
       "      <td>18.506121</td>\n",
       "    </tr>\n",
       "  </tbody>\n",
       "</table>\n",
       "<p>24950 rows × 5 columns</p>\n",
       "</div>"
      ],
      "text/plain": [
       "       Sex  Age  Height(Inches)  Weight(Pounds)        BMI\n",
       "0        1   21        65.78331        112.9925  18.357646\n",
       "1        1   35        71.51521        136.4873  18.762652\n",
       "2        1   27        69.39874        153.0269  22.338985\n",
       "3        0   24        68.21660        142.3354  21.504612\n",
       "4        1   18        67.78781        144.2971  22.077669\n",
       "...    ...  ...             ...             ...        ...\n",
       "24945    0   35        69.50215        118.0312  17.179051\n",
       "24946    0   26        64.54826        120.1932  20.281947\n",
       "24947    1   23        64.69855        118.2655  19.864050\n",
       "24948    0   20        67.52918        132.2682  20.392540\n",
       "24949    1   34        68.87761        124.8742  18.506121\n",
       "\n",
       "[24950 rows x 5 columns]"
      ]
     },
     "execution_count": 8,
     "metadata": {},
     "output_type": "execute_result"
    }
   ],
   "source": [
    "def ordinal_encoding(df,col,mapping):\n",
    "    ordinal_encoder = ce.OrdinalEncoder(cols = [col],return_df = True,mapping = [{'col':col,'mapping':mapping}])\n",
    "    df_final = ordinal_encoder.fit_transform(df)\n",
    "    return df_final\n",
    "mapping = {\"Male\":0,\"Female\":1}\n",
    "df_final = ordinal_encoding(df,\"Sex\",mapping)\n",
    "df_final"
   ]
  },
  {
   "cell_type": "code",
   "execution_count": 9,
   "metadata": {},
   "outputs": [
    {
     "data": {
      "text/plain": [
       "count    24950.000000\n",
       "mean        19.321368\n",
       "std          1.552091\n",
       "min         13.070879\n",
       "25%         18.278339\n",
       "50%         19.302160\n",
       "75%         20.357547\n",
       "max         26.023756\n",
       "Name: BMI, dtype: float64"
      ]
     },
     "execution_count": 9,
     "metadata": {},
     "output_type": "execute_result"
    }
   ],
   "source": [
    "df_final[\"BMI\"].describe()"
   ]
  },
  {
   "cell_type": "code",
   "execution_count": 10,
   "metadata": {},
   "outputs": [],
   "source": [
    "df_final[\"Height(Inches)\"] = df_final[\"Height(Inches)\"].apply(lambda hei:hei*2.54)\n",
    "df_final[\"Weight(Pounds)\"] = df_final[\"Weight(Pounds)\"].apply(lambda wei:wei/2.205)"
   ]
  },
  {
   "cell_type": "code",
   "execution_count": 11,
   "metadata": {},
   "outputs": [],
   "source": [
    "df_final.rename(columns = {\"Height(Inches)\":\"Height\",\"Weight(Pounds)\":\"Weight\"},inplace = True)"
   ]
  },
  {
   "cell_type": "code",
   "execution_count": 12,
   "metadata": {},
   "outputs": [
    {
     "data": {
      "text/html": [
       "<div>\n",
       "<style scoped>\n",
       "    .dataframe tbody tr th:only-of-type {\n",
       "        vertical-align: middle;\n",
       "    }\n",
       "\n",
       "    .dataframe tbody tr th {\n",
       "        vertical-align: top;\n",
       "    }\n",
       "\n",
       "    .dataframe thead th {\n",
       "        text-align: right;\n",
       "    }\n",
       "</style>\n",
       "<table border=\"1\" class=\"dataframe\">\n",
       "  <thead>\n",
       "    <tr style=\"text-align: right;\">\n",
       "      <th></th>\n",
       "      <th>Sex</th>\n",
       "      <th>Age</th>\n",
       "      <th>Height</th>\n",
       "      <th>Weight</th>\n",
       "      <th>BMI</th>\n",
       "    </tr>\n",
       "  </thead>\n",
       "  <tbody>\n",
       "    <tr>\n",
       "      <th>0</th>\n",
       "      <td>1</td>\n",
       "      <td>21</td>\n",
       "      <td>167.089607</td>\n",
       "      <td>51.243764</td>\n",
       "      <td>18.357646</td>\n",
       "    </tr>\n",
       "    <tr>\n",
       "      <th>1</th>\n",
       "      <td>1</td>\n",
       "      <td>35</td>\n",
       "      <td>181.648633</td>\n",
       "      <td>61.899002</td>\n",
       "      <td>18.762652</td>\n",
       "    </tr>\n",
       "    <tr>\n",
       "      <th>2</th>\n",
       "      <td>1</td>\n",
       "      <td>27</td>\n",
       "      <td>176.272800</td>\n",
       "      <td>69.399955</td>\n",
       "      <td>22.338985</td>\n",
       "    </tr>\n",
       "    <tr>\n",
       "      <th>3</th>\n",
       "      <td>0</td>\n",
       "      <td>24</td>\n",
       "      <td>173.270164</td>\n",
       "      <td>64.551202</td>\n",
       "      <td>21.504612</td>\n",
       "    </tr>\n",
       "    <tr>\n",
       "      <th>4</th>\n",
       "      <td>1</td>\n",
       "      <td>18</td>\n",
       "      <td>172.181037</td>\n",
       "      <td>65.440862</td>\n",
       "      <td>22.077669</td>\n",
       "    </tr>\n",
       "    <tr>\n",
       "      <th>...</th>\n",
       "      <td>...</td>\n",
       "      <td>...</td>\n",
       "      <td>...</td>\n",
       "      <td>...</td>\n",
       "      <td>...</td>\n",
       "    </tr>\n",
       "    <tr>\n",
       "      <th>24945</th>\n",
       "      <td>0</td>\n",
       "      <td>35</td>\n",
       "      <td>176.535461</td>\n",
       "      <td>53.528889</td>\n",
       "      <td>17.179051</td>\n",
       "    </tr>\n",
       "    <tr>\n",
       "      <th>24946</th>\n",
       "      <td>0</td>\n",
       "      <td>26</td>\n",
       "      <td>163.952580</td>\n",
       "      <td>54.509388</td>\n",
       "      <td>20.281947</td>\n",
       "    </tr>\n",
       "    <tr>\n",
       "      <th>24947</th>\n",
       "      <td>1</td>\n",
       "      <td>23</td>\n",
       "      <td>164.334317</td>\n",
       "      <td>53.635147</td>\n",
       "      <td>19.864050</td>\n",
       "    </tr>\n",
       "    <tr>\n",
       "      <th>24948</th>\n",
       "      <td>0</td>\n",
       "      <td>20</td>\n",
       "      <td>171.524117</td>\n",
       "      <td>59.985578</td>\n",
       "      <td>20.392540</td>\n",
       "    </tr>\n",
       "    <tr>\n",
       "      <th>24949</th>\n",
       "      <td>1</td>\n",
       "      <td>34</td>\n",
       "      <td>174.949129</td>\n",
       "      <td>56.632290</td>\n",
       "      <td>18.506121</td>\n",
       "    </tr>\n",
       "  </tbody>\n",
       "</table>\n",
       "<p>24950 rows × 5 columns</p>\n",
       "</div>"
      ],
      "text/plain": [
       "       Sex  Age      Height     Weight        BMI\n",
       "0        1   21  167.089607  51.243764  18.357646\n",
       "1        1   35  181.648633  61.899002  18.762652\n",
       "2        1   27  176.272800  69.399955  22.338985\n",
       "3        0   24  173.270164  64.551202  21.504612\n",
       "4        1   18  172.181037  65.440862  22.077669\n",
       "...    ...  ...         ...        ...        ...\n",
       "24945    0   35  176.535461  53.528889  17.179051\n",
       "24946    0   26  163.952580  54.509388  20.281947\n",
       "24947    1   23  164.334317  53.635147  19.864050\n",
       "24948    0   20  171.524117  59.985578  20.392540\n",
       "24949    1   34  174.949129  56.632290  18.506121\n",
       "\n",
       "[24950 rows x 5 columns]"
      ]
     },
     "execution_count": 12,
     "metadata": {},
     "output_type": "execute_result"
    }
   ],
   "source": [
    "df_final"
   ]
  },
  {
   "cell_type": "markdown",
   "metadata": {
    "cell_id": "00013-6c4c7975-22e6-4036-bd80-a8c3ad3ee976",
    "deepnote_cell_type": "markdown",
    "tags": []
   },
   "source": [
    "# Model Comparsion"
   ]
  },
  {
   "cell_type": "code",
   "execution_count": 13,
   "metadata": {
    "cell_id": "00005-60932bc3-92d7-4a54-a7a5-e6e70a5d47d1",
    "deepnote_cell_type": "code",
    "deepnote_to_be_reexecuted": false,
    "execution_millis": 0,
    "execution_start": 1616768881542,
    "source_hash": "80cdd06e",
    "tags": []
   },
   "outputs": [
    {
     "data": {
      "text/html": [
       "<style type=\"text/css\">\n",
       "#T_860ab_row8_col1 {\n",
       "  background-color: lightgreen;\n",
       "}\n",
       "</style>\n",
       "<table id=\"T_860ab\">\n",
       "  <thead>\n",
       "    <tr>\n",
       "      <th class=\"blank level0\" >&nbsp;</th>\n",
       "      <th id=\"T_860ab_level0_col0\" class=\"col_heading level0 col0\" >Description</th>\n",
       "      <th id=\"T_860ab_level0_col1\" class=\"col_heading level0 col1\" >Value</th>\n",
       "    </tr>\n",
       "  </thead>\n",
       "  <tbody>\n",
       "    <tr>\n",
       "      <th id=\"T_860ab_level0_row0\" class=\"row_heading level0 row0\" >0</th>\n",
       "      <td id=\"T_860ab_row0_col0\" class=\"data row0 col0\" >Session id</td>\n",
       "      <td id=\"T_860ab_row0_col1\" class=\"data row0 col1\" >1569</td>\n",
       "    </tr>\n",
       "    <tr>\n",
       "      <th id=\"T_860ab_level0_row1\" class=\"row_heading level0 row1\" >1</th>\n",
       "      <td id=\"T_860ab_row1_col0\" class=\"data row1 col0\" >Target</td>\n",
       "      <td id=\"T_860ab_row1_col1\" class=\"data row1 col1\" >BMI</td>\n",
       "    </tr>\n",
       "    <tr>\n",
       "      <th id=\"T_860ab_level0_row2\" class=\"row_heading level0 row2\" >2</th>\n",
       "      <td id=\"T_860ab_row2_col0\" class=\"data row2 col0\" >Target type</td>\n",
       "      <td id=\"T_860ab_row2_col1\" class=\"data row2 col1\" >Regression</td>\n",
       "    </tr>\n",
       "    <tr>\n",
       "      <th id=\"T_860ab_level0_row3\" class=\"row_heading level0 row3\" >3</th>\n",
       "      <td id=\"T_860ab_row3_col0\" class=\"data row3 col0\" >Original data shape</td>\n",
       "      <td id=\"T_860ab_row3_col1\" class=\"data row3 col1\" >(24950, 5)</td>\n",
       "    </tr>\n",
       "    <tr>\n",
       "      <th id=\"T_860ab_level0_row4\" class=\"row_heading level0 row4\" >4</th>\n",
       "      <td id=\"T_860ab_row4_col0\" class=\"data row4 col0\" >Transformed data shape</td>\n",
       "      <td id=\"T_860ab_row4_col1\" class=\"data row4 col1\" >(24950, 5)</td>\n",
       "    </tr>\n",
       "    <tr>\n",
       "      <th id=\"T_860ab_level0_row5\" class=\"row_heading level0 row5\" >5</th>\n",
       "      <td id=\"T_860ab_row5_col0\" class=\"data row5 col0\" >Transformed train set shape</td>\n",
       "      <td id=\"T_860ab_row5_col1\" class=\"data row5 col1\" >(17465, 5)</td>\n",
       "    </tr>\n",
       "    <tr>\n",
       "      <th id=\"T_860ab_level0_row6\" class=\"row_heading level0 row6\" >6</th>\n",
       "      <td id=\"T_860ab_row6_col0\" class=\"data row6 col0\" >Transformed test set shape</td>\n",
       "      <td id=\"T_860ab_row6_col1\" class=\"data row6 col1\" >(7485, 5)</td>\n",
       "    </tr>\n",
       "    <tr>\n",
       "      <th id=\"T_860ab_level0_row7\" class=\"row_heading level0 row7\" >7</th>\n",
       "      <td id=\"T_860ab_row7_col0\" class=\"data row7 col0\" >Numeric features</td>\n",
       "      <td id=\"T_860ab_row7_col1\" class=\"data row7 col1\" >4</td>\n",
       "    </tr>\n",
       "    <tr>\n",
       "      <th id=\"T_860ab_level0_row8\" class=\"row_heading level0 row8\" >8</th>\n",
       "      <td id=\"T_860ab_row8_col0\" class=\"data row8 col0\" >Preprocess</td>\n",
       "      <td id=\"T_860ab_row8_col1\" class=\"data row8 col1\" >True</td>\n",
       "    </tr>\n",
       "    <tr>\n",
       "      <th id=\"T_860ab_level0_row9\" class=\"row_heading level0 row9\" >9</th>\n",
       "      <td id=\"T_860ab_row9_col0\" class=\"data row9 col0\" >Imputation type</td>\n",
       "      <td id=\"T_860ab_row9_col1\" class=\"data row9 col1\" >simple</td>\n",
       "    </tr>\n",
       "    <tr>\n",
       "      <th id=\"T_860ab_level0_row10\" class=\"row_heading level0 row10\" >10</th>\n",
       "      <td id=\"T_860ab_row10_col0\" class=\"data row10 col0\" >Numeric imputation</td>\n",
       "      <td id=\"T_860ab_row10_col1\" class=\"data row10 col1\" >mean</td>\n",
       "    </tr>\n",
       "    <tr>\n",
       "      <th id=\"T_860ab_level0_row11\" class=\"row_heading level0 row11\" >11</th>\n",
       "      <td id=\"T_860ab_row11_col0\" class=\"data row11 col0\" >Categorical imputation</td>\n",
       "      <td id=\"T_860ab_row11_col1\" class=\"data row11 col1\" >mode</td>\n",
       "    </tr>\n",
       "    <tr>\n",
       "      <th id=\"T_860ab_level0_row12\" class=\"row_heading level0 row12\" >12</th>\n",
       "      <td id=\"T_860ab_row12_col0\" class=\"data row12 col0\" >Fold Generator</td>\n",
       "      <td id=\"T_860ab_row12_col1\" class=\"data row12 col1\" >KFold</td>\n",
       "    </tr>\n",
       "    <tr>\n",
       "      <th id=\"T_860ab_level0_row13\" class=\"row_heading level0 row13\" >13</th>\n",
       "      <td id=\"T_860ab_row13_col0\" class=\"data row13 col0\" >Fold Number</td>\n",
       "      <td id=\"T_860ab_row13_col1\" class=\"data row13 col1\" >10</td>\n",
       "    </tr>\n",
       "    <tr>\n",
       "      <th id=\"T_860ab_level0_row14\" class=\"row_heading level0 row14\" >14</th>\n",
       "      <td id=\"T_860ab_row14_col0\" class=\"data row14 col0\" >CPU Jobs</td>\n",
       "      <td id=\"T_860ab_row14_col1\" class=\"data row14 col1\" >-1</td>\n",
       "    </tr>\n",
       "    <tr>\n",
       "      <th id=\"T_860ab_level0_row15\" class=\"row_heading level0 row15\" >15</th>\n",
       "      <td id=\"T_860ab_row15_col0\" class=\"data row15 col0\" >Use GPU</td>\n",
       "      <td id=\"T_860ab_row15_col1\" class=\"data row15 col1\" >False</td>\n",
       "    </tr>\n",
       "    <tr>\n",
       "      <th id=\"T_860ab_level0_row16\" class=\"row_heading level0 row16\" >16</th>\n",
       "      <td id=\"T_860ab_row16_col0\" class=\"data row16 col0\" >Log Experiment</td>\n",
       "      <td id=\"T_860ab_row16_col1\" class=\"data row16 col1\" >False</td>\n",
       "    </tr>\n",
       "    <tr>\n",
       "      <th id=\"T_860ab_level0_row17\" class=\"row_heading level0 row17\" >17</th>\n",
       "      <td id=\"T_860ab_row17_col0\" class=\"data row17 col0\" >Experiment Name</td>\n",
       "      <td id=\"T_860ab_row17_col1\" class=\"data row17 col1\" >reg-default-name</td>\n",
       "    </tr>\n",
       "    <tr>\n",
       "      <th id=\"T_860ab_level0_row18\" class=\"row_heading level0 row18\" >18</th>\n",
       "      <td id=\"T_860ab_row18_col0\" class=\"data row18 col0\" >USI</td>\n",
       "      <td id=\"T_860ab_row18_col1\" class=\"data row18 col1\" >ddcf</td>\n",
       "    </tr>\n",
       "  </tbody>\n",
       "</table>\n"
      ],
      "text/plain": [
       "<pandas.io.formats.style.Styler at 0x2cf4ec16970>"
      ]
     },
     "metadata": {},
     "output_type": "display_data"
    }
   ],
   "source": [
    "experiment = setup(df_final,target=\"BMI\")"
   ]
  },
  {
   "cell_type": "code",
   "execution_count": 14,
   "metadata": {
    "cell_id": "00006-27cf8f44-e5a5-4d05-95dc-6369fbe82d93",
    "deepnote_cell_type": "code",
    "deepnote_to_be_reexecuted": false,
    "execution_millis": 0,
    "execution_start": 1616768881543,
    "source_hash": "232bd642",
    "tags": []
   },
   "outputs": [
    {
     "data": {
      "text/html": [],
      "text/plain": [
       "<IPython.core.display.HTML object>"
      ]
     },
     "metadata": {},
     "output_type": "display_data"
    },
    {
     "data": {
      "text/html": [
       "<style type=\"text/css\">\n",
       "#T_bbbbe th {\n",
       "  text-align: left;\n",
       "}\n",
       "#T_bbbbe_row0_col0, #T_bbbbe_row1_col0, #T_bbbbe_row1_col1, #T_bbbbe_row1_col2, #T_bbbbe_row1_col3, #T_bbbbe_row1_col4, #T_bbbbe_row1_col5, #T_bbbbe_row1_col6, #T_bbbbe_row2_col0, #T_bbbbe_row2_col1, #T_bbbbe_row2_col2, #T_bbbbe_row2_col3, #T_bbbbe_row2_col4, #T_bbbbe_row2_col5, #T_bbbbe_row2_col6, #T_bbbbe_row3_col0, #T_bbbbe_row3_col1, #T_bbbbe_row3_col2, #T_bbbbe_row3_col3, #T_bbbbe_row3_col4, #T_bbbbe_row3_col5, #T_bbbbe_row3_col6, #T_bbbbe_row4_col0, #T_bbbbe_row4_col1, #T_bbbbe_row4_col2, #T_bbbbe_row4_col3, #T_bbbbe_row4_col4, #T_bbbbe_row4_col5, #T_bbbbe_row4_col6, #T_bbbbe_row5_col0, #T_bbbbe_row5_col1, #T_bbbbe_row5_col2, #T_bbbbe_row5_col3, #T_bbbbe_row5_col4, #T_bbbbe_row5_col5, #T_bbbbe_row5_col6, #T_bbbbe_row6_col0, #T_bbbbe_row6_col1, #T_bbbbe_row6_col2, #T_bbbbe_row6_col3, #T_bbbbe_row6_col4, #T_bbbbe_row6_col5, #T_bbbbe_row6_col6, #T_bbbbe_row7_col0, #T_bbbbe_row7_col1, #T_bbbbe_row7_col2, #T_bbbbe_row7_col3, #T_bbbbe_row7_col4, #T_bbbbe_row7_col5, #T_bbbbe_row7_col6, #T_bbbbe_row8_col0, #T_bbbbe_row8_col1, #T_bbbbe_row8_col2, #T_bbbbe_row8_col3, #T_bbbbe_row8_col4, #T_bbbbe_row8_col5, #T_bbbbe_row8_col6, #T_bbbbe_row9_col0, #T_bbbbe_row9_col1, #T_bbbbe_row9_col2, #T_bbbbe_row9_col3, #T_bbbbe_row9_col4, #T_bbbbe_row9_col5, #T_bbbbe_row9_col6, #T_bbbbe_row10_col0, #T_bbbbe_row10_col1, #T_bbbbe_row10_col2, #T_bbbbe_row10_col3, #T_bbbbe_row10_col4, #T_bbbbe_row10_col5, #T_bbbbe_row10_col6, #T_bbbbe_row11_col0, #T_bbbbe_row11_col1, #T_bbbbe_row11_col2, #T_bbbbe_row11_col3, #T_bbbbe_row11_col4, #T_bbbbe_row11_col5, #T_bbbbe_row11_col6, #T_bbbbe_row12_col0, #T_bbbbe_row12_col1, #T_bbbbe_row12_col2, #T_bbbbe_row12_col3, #T_bbbbe_row12_col4, #T_bbbbe_row12_col5, #T_bbbbe_row12_col6, #T_bbbbe_row13_col0, #T_bbbbe_row13_col1, #T_bbbbe_row13_col2, #T_bbbbe_row13_col3, #T_bbbbe_row13_col4, #T_bbbbe_row13_col5, #T_bbbbe_row13_col6, #T_bbbbe_row14_col0, #T_bbbbe_row14_col1, #T_bbbbe_row14_col2, #T_bbbbe_row14_col3, #T_bbbbe_row14_col4, #T_bbbbe_row14_col5, #T_bbbbe_row14_col6, #T_bbbbe_row15_col0, #T_bbbbe_row15_col1, #T_bbbbe_row15_col2, #T_bbbbe_row15_col3, #T_bbbbe_row15_col4, #T_bbbbe_row15_col5, #T_bbbbe_row15_col6, #T_bbbbe_row16_col0, #T_bbbbe_row16_col1, #T_bbbbe_row16_col2, #T_bbbbe_row16_col3, #T_bbbbe_row16_col4, #T_bbbbe_row16_col5, #T_bbbbe_row16_col6, #T_bbbbe_row17_col0, #T_bbbbe_row17_col1, #T_bbbbe_row17_col2, #T_bbbbe_row17_col3, #T_bbbbe_row17_col4, #T_bbbbe_row17_col5, #T_bbbbe_row17_col6 {\n",
       "  text-align: left;\n",
       "}\n",
       "#T_bbbbe_row0_col1, #T_bbbbe_row0_col2, #T_bbbbe_row0_col3, #T_bbbbe_row0_col4, #T_bbbbe_row0_col5, #T_bbbbe_row0_col6 {\n",
       "  text-align: left;\n",
       "  background-color: yellow;\n",
       "}\n",
       "#T_bbbbe_row0_col7, #T_bbbbe_row1_col7, #T_bbbbe_row2_col7, #T_bbbbe_row3_col7, #T_bbbbe_row4_col7, #T_bbbbe_row5_col7, #T_bbbbe_row6_col7, #T_bbbbe_row7_col7, #T_bbbbe_row9_col7, #T_bbbbe_row10_col7, #T_bbbbe_row11_col7, #T_bbbbe_row12_col7, #T_bbbbe_row13_col7, #T_bbbbe_row14_col7, #T_bbbbe_row15_col7, #T_bbbbe_row16_col7, #T_bbbbe_row17_col7 {\n",
       "  text-align: left;\n",
       "  background-color: lightgrey;\n",
       "}\n",
       "#T_bbbbe_row8_col7 {\n",
       "  text-align: left;\n",
       "  background-color: yellow;\n",
       "  background-color: lightgrey;\n",
       "}\n",
       "</style>\n",
       "<table id=\"T_bbbbe\">\n",
       "  <thead>\n",
       "    <tr>\n",
       "      <th class=\"blank level0\" >&nbsp;</th>\n",
       "      <th id=\"T_bbbbe_level0_col0\" class=\"col_heading level0 col0\" >Model</th>\n",
       "      <th id=\"T_bbbbe_level0_col1\" class=\"col_heading level0 col1\" >MAE</th>\n",
       "      <th id=\"T_bbbbe_level0_col2\" class=\"col_heading level0 col2\" >MSE</th>\n",
       "      <th id=\"T_bbbbe_level0_col3\" class=\"col_heading level0 col3\" >RMSE</th>\n",
       "      <th id=\"T_bbbbe_level0_col4\" class=\"col_heading level0 col4\" >R2</th>\n",
       "      <th id=\"T_bbbbe_level0_col5\" class=\"col_heading level0 col5\" >RMSLE</th>\n",
       "      <th id=\"T_bbbbe_level0_col6\" class=\"col_heading level0 col6\" >MAPE</th>\n",
       "      <th id=\"T_bbbbe_level0_col7\" class=\"col_heading level0 col7\" >TT (Sec)</th>\n",
       "    </tr>\n",
       "  </thead>\n",
       "  <tbody>\n",
       "    <tr>\n",
       "      <th id=\"T_bbbbe_level0_row0\" class=\"row_heading level0 row0\" >et</th>\n",
       "      <td id=\"T_bbbbe_row0_col0\" class=\"data row0 col0\" >Extra Trees Regressor</td>\n",
       "      <td id=\"T_bbbbe_row0_col1\" class=\"data row0 col1\" >0.0091</td>\n",
       "      <td id=\"T_bbbbe_row0_col2\" class=\"data row0 col2\" >0.0010</td>\n",
       "      <td id=\"T_bbbbe_row0_col3\" class=\"data row0 col3\" >0.0299</td>\n",
       "      <td id=\"T_bbbbe_row0_col4\" class=\"data row0 col4\" >0.9996</td>\n",
       "      <td id=\"T_bbbbe_row0_col5\" class=\"data row0 col5\" >0.0015</td>\n",
       "      <td id=\"T_bbbbe_row0_col6\" class=\"data row0 col6\" >0.0005</td>\n",
       "      <td id=\"T_bbbbe_row0_col7\" class=\"data row0 col7\" >0.3430</td>\n",
       "    </tr>\n",
       "    <tr>\n",
       "      <th id=\"T_bbbbe_level0_row1\" class=\"row_heading level0 row1\" >rf</th>\n",
       "      <td id=\"T_bbbbe_row1_col0\" class=\"data row1 col0\" >Random Forest Regressor</td>\n",
       "      <td id=\"T_bbbbe_row1_col1\" class=\"data row1 col1\" >0.0166</td>\n",
       "      <td id=\"T_bbbbe_row1_col2\" class=\"data row1 col2\" >0.0019</td>\n",
       "      <td id=\"T_bbbbe_row1_col3\" class=\"data row1 col3\" >0.0425</td>\n",
       "      <td id=\"T_bbbbe_row1_col4\" class=\"data row1 col4\" >0.9992</td>\n",
       "      <td id=\"T_bbbbe_row1_col5\" class=\"data row1 col5\" >0.0021</td>\n",
       "      <td id=\"T_bbbbe_row1_col6\" class=\"data row1 col6\" >0.0009</td>\n",
       "      <td id=\"T_bbbbe_row1_col7\" class=\"data row1 col7\" >0.3680</td>\n",
       "    </tr>\n",
       "    <tr>\n",
       "      <th id=\"T_bbbbe_level0_row2\" class=\"row_heading level0 row2\" >lightgbm</th>\n",
       "      <td id=\"T_bbbbe_row2_col0\" class=\"data row2 col0\" >Light Gradient Boosting Machine</td>\n",
       "      <td id=\"T_bbbbe_row2_col1\" class=\"data row2 col1\" >0.0405</td>\n",
       "      <td id=\"T_bbbbe_row2_col2\" class=\"data row2 col2\" >0.0057</td>\n",
       "      <td id=\"T_bbbbe_row2_col3\" class=\"data row2 col3\" >0.0748</td>\n",
       "      <td id=\"T_bbbbe_row2_col4\" class=\"data row2 col4\" >0.9976</td>\n",
       "      <td id=\"T_bbbbe_row2_col5\" class=\"data row2 col5\" >0.0039</td>\n",
       "      <td id=\"T_bbbbe_row2_col6\" class=\"data row2 col6\" >0.0021</td>\n",
       "      <td id=\"T_bbbbe_row2_col7\" class=\"data row2 col7\" >0.1580</td>\n",
       "    </tr>\n",
       "    <tr>\n",
       "      <th id=\"T_bbbbe_level0_row3\" class=\"row_heading level0 row3\" >dt</th>\n",
       "      <td id=\"T_bbbbe_row3_col0\" class=\"data row3 col0\" >Decision Tree Regressor</td>\n",
       "      <td id=\"T_bbbbe_row3_col1\" class=\"data row3 col1\" >0.0442</td>\n",
       "      <td id=\"T_bbbbe_row3_col2\" class=\"data row3 col2\" >0.0057</td>\n",
       "      <td id=\"T_bbbbe_row3_col3\" class=\"data row3 col3\" >0.0750</td>\n",
       "      <td id=\"T_bbbbe_row3_col4\" class=\"data row3 col4\" >0.9976</td>\n",
       "      <td id=\"T_bbbbe_row3_col5\" class=\"data row3 col5\" >0.0038</td>\n",
       "      <td id=\"T_bbbbe_row3_col6\" class=\"data row3 col6\" >0.0023</td>\n",
       "      <td id=\"T_bbbbe_row3_col7\" class=\"data row3 col7\" >0.0270</td>\n",
       "    </tr>\n",
       "    <tr>\n",
       "      <th id=\"T_bbbbe_level0_row4\" class=\"row_heading level0 row4\" >gbr</th>\n",
       "      <td id=\"T_bbbbe_row4_col0\" class=\"data row4 col0\" >Gradient Boosting Regressor</td>\n",
       "      <td id=\"T_bbbbe_row4_col1\" class=\"data row4 col1\" >0.0563</td>\n",
       "      <td id=\"T_bbbbe_row4_col2\" class=\"data row4 col2\" >0.0059</td>\n",
       "      <td id=\"T_bbbbe_row4_col3\" class=\"data row4 col3\" >0.0768</td>\n",
       "      <td id=\"T_bbbbe_row4_col4\" class=\"data row4 col4\" >0.9975</td>\n",
       "      <td id=\"T_bbbbe_row4_col5\" class=\"data row4 col5\" >0.0038</td>\n",
       "      <td id=\"T_bbbbe_row4_col6\" class=\"data row4 col6\" >0.0029</td>\n",
       "      <td id=\"T_bbbbe_row4_col7\" class=\"data row4 col7\" >0.1740</td>\n",
       "    </tr>\n",
       "    <tr>\n",
       "      <th id=\"T_bbbbe_level0_row5\" class=\"row_heading level0 row5\" >lar</th>\n",
       "      <td id=\"T_bbbbe_row5_col0\" class=\"data row5 col0\" >Least Angle Regression</td>\n",
       "      <td id=\"T_bbbbe_row5_col1\" class=\"data row5 col1\" >0.0552</td>\n",
       "      <td id=\"T_bbbbe_row5_col2\" class=\"data row5 col2\" >0.0075</td>\n",
       "      <td id=\"T_bbbbe_row5_col3\" class=\"data row5 col3\" >0.0866</td>\n",
       "      <td id=\"T_bbbbe_row5_col4\" class=\"data row5 col4\" >0.9969</td>\n",
       "      <td id=\"T_bbbbe_row5_col5\" class=\"data row5 col5\" >0.0044</td>\n",
       "      <td id=\"T_bbbbe_row5_col6\" class=\"data row5 col6\" >0.0029</td>\n",
       "      <td id=\"T_bbbbe_row5_col7\" class=\"data row5 col7\" >0.0210</td>\n",
       "    </tr>\n",
       "    <tr>\n",
       "      <th id=\"T_bbbbe_level0_row6\" class=\"row_heading level0 row6\" >br</th>\n",
       "      <td id=\"T_bbbbe_row6_col0\" class=\"data row6 col0\" >Bayesian Ridge</td>\n",
       "      <td id=\"T_bbbbe_row6_col1\" class=\"data row6 col1\" >0.0552</td>\n",
       "      <td id=\"T_bbbbe_row6_col2\" class=\"data row6 col2\" >0.0075</td>\n",
       "      <td id=\"T_bbbbe_row6_col3\" class=\"data row6 col3\" >0.0866</td>\n",
       "      <td id=\"T_bbbbe_row6_col4\" class=\"data row6 col4\" >0.9969</td>\n",
       "      <td id=\"T_bbbbe_row6_col5\" class=\"data row6 col5\" >0.0044</td>\n",
       "      <td id=\"T_bbbbe_row6_col6\" class=\"data row6 col6\" >0.0029</td>\n",
       "      <td id=\"T_bbbbe_row6_col7\" class=\"data row6 col7\" >0.0220</td>\n",
       "    </tr>\n",
       "    <tr>\n",
       "      <th id=\"T_bbbbe_level0_row7\" class=\"row_heading level0 row7\" >huber</th>\n",
       "      <td id=\"T_bbbbe_row7_col0\" class=\"data row7 col0\" >Huber Regressor</td>\n",
       "      <td id=\"T_bbbbe_row7_col1\" class=\"data row7 col1\" >0.0550</td>\n",
       "      <td id=\"T_bbbbe_row7_col2\" class=\"data row7 col2\" >0.0075</td>\n",
       "      <td id=\"T_bbbbe_row7_col3\" class=\"data row7 col3\" >0.0867</td>\n",
       "      <td id=\"T_bbbbe_row7_col4\" class=\"data row7 col4\" >0.9969</td>\n",
       "      <td id=\"T_bbbbe_row7_col5\" class=\"data row7 col5\" >0.0044</td>\n",
       "      <td id=\"T_bbbbe_row7_col6\" class=\"data row7 col6\" >0.0029</td>\n",
       "      <td id=\"T_bbbbe_row7_col7\" class=\"data row7 col7\" >0.0450</td>\n",
       "    </tr>\n",
       "    <tr>\n",
       "      <th id=\"T_bbbbe_level0_row8\" class=\"row_heading level0 row8\" >ridge</th>\n",
       "      <td id=\"T_bbbbe_row8_col0\" class=\"data row8 col0\" >Ridge Regression</td>\n",
       "      <td id=\"T_bbbbe_row8_col1\" class=\"data row8 col1\" >0.0552</td>\n",
       "      <td id=\"T_bbbbe_row8_col2\" class=\"data row8 col2\" >0.0075</td>\n",
       "      <td id=\"T_bbbbe_row8_col3\" class=\"data row8 col3\" >0.0866</td>\n",
       "      <td id=\"T_bbbbe_row8_col4\" class=\"data row8 col4\" >0.9969</td>\n",
       "      <td id=\"T_bbbbe_row8_col5\" class=\"data row8 col5\" >0.0044</td>\n",
       "      <td id=\"T_bbbbe_row8_col6\" class=\"data row8 col6\" >0.0029</td>\n",
       "      <td id=\"T_bbbbe_row8_col7\" class=\"data row8 col7\" >0.0190</td>\n",
       "    </tr>\n",
       "    <tr>\n",
       "      <th id=\"T_bbbbe_level0_row9\" class=\"row_heading level0 row9\" >lr</th>\n",
       "      <td id=\"T_bbbbe_row9_col0\" class=\"data row9 col0\" >Linear Regression</td>\n",
       "      <td id=\"T_bbbbe_row9_col1\" class=\"data row9 col1\" >0.0552</td>\n",
       "      <td id=\"T_bbbbe_row9_col2\" class=\"data row9 col2\" >0.0075</td>\n",
       "      <td id=\"T_bbbbe_row9_col3\" class=\"data row9 col3\" >0.0866</td>\n",
       "      <td id=\"T_bbbbe_row9_col4\" class=\"data row9 col4\" >0.9969</td>\n",
       "      <td id=\"T_bbbbe_row9_col5\" class=\"data row9 col5\" >0.0044</td>\n",
       "      <td id=\"T_bbbbe_row9_col6\" class=\"data row9 col6\" >0.0029</td>\n",
       "      <td id=\"T_bbbbe_row9_col7\" class=\"data row9 col7\" >0.6080</td>\n",
       "    </tr>\n",
       "    <tr>\n",
       "      <th id=\"T_bbbbe_level0_row10\" class=\"row_heading level0 row10\" >knn</th>\n",
       "      <td id=\"T_bbbbe_row10_col0\" class=\"data row10 col0\" >K Neighbors Regressor</td>\n",
       "      <td id=\"T_bbbbe_row10_col1\" class=\"data row10 col1\" >0.0790</td>\n",
       "      <td id=\"T_bbbbe_row10_col2\" class=\"data row10 col2\" >0.0132</td>\n",
       "      <td id=\"T_bbbbe_row10_col3\" class=\"data row10 col3\" >0.1145</td>\n",
       "      <td id=\"T_bbbbe_row10_col4\" class=\"data row10 col4\" >0.9945</td>\n",
       "      <td id=\"T_bbbbe_row10_col5\" class=\"data row10 col5\" >0.0058</td>\n",
       "      <td id=\"T_bbbbe_row10_col6\" class=\"data row10 col6\" >0.0041</td>\n",
       "      <td id=\"T_bbbbe_row10_col7\" class=\"data row10 col7\" >0.0260</td>\n",
       "    </tr>\n",
       "    <tr>\n",
       "      <th id=\"T_bbbbe_level0_row11\" class=\"row_heading level0 row11\" >en</th>\n",
       "      <td id=\"T_bbbbe_row11_col0\" class=\"data row11 col0\" >Elastic Net</td>\n",
       "      <td id=\"T_bbbbe_row11_col1\" class=\"data row11 col1\" >0.2017</td>\n",
       "      <td id=\"T_bbbbe_row11_col2\" class=\"data row11 col2\" >0.0675</td>\n",
       "      <td id=\"T_bbbbe_row11_col3\" class=\"data row11 col3\" >0.2598</td>\n",
       "      <td id=\"T_bbbbe_row11_col4\" class=\"data row11 col4\" >0.9718</td>\n",
       "      <td id=\"T_bbbbe_row11_col5\" class=\"data row11 col5\" >0.0127</td>\n",
       "      <td id=\"T_bbbbe_row11_col6\" class=\"data row11 col6\" >0.0105</td>\n",
       "      <td id=\"T_bbbbe_row11_col7\" class=\"data row11 col7\" >0.0200</td>\n",
       "    </tr>\n",
       "    <tr>\n",
       "      <th id=\"T_bbbbe_level0_row12\" class=\"row_heading level0 row12\" >lasso</th>\n",
       "      <td id=\"T_bbbbe_row12_col0\" class=\"data row12 col0\" >Lasso Regression</td>\n",
       "      <td id=\"T_bbbbe_row12_col1\" class=\"data row12 col1\" >0.3221</td>\n",
       "      <td id=\"T_bbbbe_row12_col2\" class=\"data row12 col2\" >0.1666</td>\n",
       "      <td id=\"T_bbbbe_row12_col3\" class=\"data row12 col3\" >0.4080</td>\n",
       "      <td id=\"T_bbbbe_row12_col4\" class=\"data row12 col4\" >0.9304</td>\n",
       "      <td id=\"T_bbbbe_row12_col5\" class=\"data row12 col5\" >0.0201</td>\n",
       "      <td id=\"T_bbbbe_row12_col6\" class=\"data row12 col6\" >0.0168</td>\n",
       "      <td id=\"T_bbbbe_row12_col7\" class=\"data row12 col7\" >0.2750</td>\n",
       "    </tr>\n",
       "    <tr>\n",
       "      <th id=\"T_bbbbe_level0_row13\" class=\"row_heading level0 row13\" >ada</th>\n",
       "      <td id=\"T_bbbbe_row13_col0\" class=\"data row13 col0\" >AdaBoost Regressor</td>\n",
       "      <td id=\"T_bbbbe_row13_col1\" class=\"data row13 col1\" >0.3455</td>\n",
       "      <td id=\"T_bbbbe_row13_col2\" class=\"data row13 col2\" >0.1912</td>\n",
       "      <td id=\"T_bbbbe_row13_col3\" class=\"data row13 col3\" >0.4368</td>\n",
       "      <td id=\"T_bbbbe_row13_col4\" class=\"data row13 col4\" >0.9200</td>\n",
       "      <td id=\"T_bbbbe_row13_col5\" class=\"data row13 col5\" >0.0219</td>\n",
       "      <td id=\"T_bbbbe_row13_col6\" class=\"data row13 col6\" >0.0181</td>\n",
       "      <td id=\"T_bbbbe_row13_col7\" class=\"data row13 col7\" >0.1130</td>\n",
       "    </tr>\n",
       "    <tr>\n",
       "      <th id=\"T_bbbbe_level0_row14\" class=\"row_heading level0 row14\" >omp</th>\n",
       "      <td id=\"T_bbbbe_row14_col0\" class=\"data row14 col0\" >Orthogonal Matching Pursuit</td>\n",
       "      <td id=\"T_bbbbe_row14_col1\" class=\"data row14 col1\" >0.7450</td>\n",
       "      <td id=\"T_bbbbe_row14_col2\" class=\"data row14 col2\" >0.8819</td>\n",
       "      <td id=\"T_bbbbe_row14_col3\" class=\"data row14 col3\" >0.9388</td>\n",
       "      <td id=\"T_bbbbe_row14_col4\" class=\"data row14 col4\" >0.6313</td>\n",
       "      <td id=\"T_bbbbe_row14_col5\" class=\"data row14 col5\" >0.0461</td>\n",
       "      <td id=\"T_bbbbe_row14_col6\" class=\"data row14 col6\" >0.0386</td>\n",
       "      <td id=\"T_bbbbe_row14_col7\" class=\"data row14 col7\" >0.0220</td>\n",
       "    </tr>\n",
       "    <tr>\n",
       "      <th id=\"T_bbbbe_level0_row15\" class=\"row_heading level0 row15\" >par</th>\n",
       "      <td id=\"T_bbbbe_row15_col0\" class=\"data row15 col0\" >Passive Aggressive Regressor</td>\n",
       "      <td id=\"T_bbbbe_row15_col1\" class=\"data row15 col1\" >1.2392</td>\n",
       "      <td id=\"T_bbbbe_row15_col2\" class=\"data row15 col2\" >2.3019</td>\n",
       "      <td id=\"T_bbbbe_row15_col3\" class=\"data row15 col3\" >1.4903</td>\n",
       "      <td id=\"T_bbbbe_row15_col4\" class=\"data row15 col4\" >0.0376</td>\n",
       "      <td id=\"T_bbbbe_row15_col5\" class=\"data row15 col5\" >0.0722</td>\n",
       "      <td id=\"T_bbbbe_row15_col6\" class=\"data row15 col6\" >0.0648</td>\n",
       "      <td id=\"T_bbbbe_row15_col7\" class=\"data row15 col7\" >0.0230</td>\n",
       "    </tr>\n",
       "    <tr>\n",
       "      <th id=\"T_bbbbe_level0_row16\" class=\"row_heading level0 row16\" >llar</th>\n",
       "      <td id=\"T_bbbbe_row16_col0\" class=\"data row16 col0\" >Lasso Least Angle Regression</td>\n",
       "      <td id=\"T_bbbbe_row16_col1\" class=\"data row16 col1\" >1.2334</td>\n",
       "      <td id=\"T_bbbbe_row16_col2\" class=\"data row16 col2\" >2.3934</td>\n",
       "      <td id=\"T_bbbbe_row16_col3\" class=\"data row16 col3\" >1.5469</td>\n",
       "      <td id=\"T_bbbbe_row16_col4\" class=\"data row16 col4\" >-0.0005</td>\n",
       "      <td id=\"T_bbbbe_row16_col5\" class=\"data row16 col5\" >0.0767</td>\n",
       "      <td id=\"T_bbbbe_row16_col6\" class=\"data row16 col6\" >0.0647</td>\n",
       "      <td id=\"T_bbbbe_row16_col7\" class=\"data row16 col7\" >0.0210</td>\n",
       "    </tr>\n",
       "    <tr>\n",
       "      <th id=\"T_bbbbe_level0_row17\" class=\"row_heading level0 row17\" >dummy</th>\n",
       "      <td id=\"T_bbbbe_row17_col0\" class=\"data row17 col0\" >Dummy Regressor</td>\n",
       "      <td id=\"T_bbbbe_row17_col1\" class=\"data row17 col1\" >1.2334</td>\n",
       "      <td id=\"T_bbbbe_row17_col2\" class=\"data row17 col2\" >2.3934</td>\n",
       "      <td id=\"T_bbbbe_row17_col3\" class=\"data row17 col3\" >1.5469</td>\n",
       "      <td id=\"T_bbbbe_row17_col4\" class=\"data row17 col4\" >-0.0005</td>\n",
       "      <td id=\"T_bbbbe_row17_col5\" class=\"data row17 col5\" >0.0767</td>\n",
       "      <td id=\"T_bbbbe_row17_col6\" class=\"data row17 col6\" >0.0647</td>\n",
       "      <td id=\"T_bbbbe_row17_col7\" class=\"data row17 col7\" >0.0470</td>\n",
       "    </tr>\n",
       "  </tbody>\n",
       "</table>\n"
      ],
      "text/plain": [
       "<pandas.io.formats.style.Styler at 0x2cf43c37f70>"
      ]
     },
     "metadata": {},
     "output_type": "display_data"
    },
    {
     "data": {
      "application/vnd.jupyter.widget-view+json": {
       "model_id": "",
       "version_major": 2,
       "version_minor": 0
      },
      "text/plain": [
       "Processing:   0%|          | 0/77 [00:00<?, ?it/s]"
      ]
     },
     "metadata": {},
     "output_type": "display_data"
    },
    {
     "data": {
      "text/plain": [
       "ExtraTreesRegressor(n_jobs=-1, random_state=1569)"
      ]
     },
     "execution_count": 14,
     "metadata": {},
     "output_type": "execute_result"
    }
   ],
   "source": [
    "compare_models()"
   ]
  },
  {
   "cell_type": "markdown",
   "metadata": {
    "cell_id": "00015-e24074aa-265c-4270-a35d-136741669f4d",
    "deepnote_cell_type": "markdown",
    "tags": []
   },
   "source": [
    "# Data Transformation"
   ]
  },
  {
   "cell_type": "code",
   "execution_count": 15,
   "metadata": {
    "cell_id": "00008-f1ca7f58-be9f-40d7-9008-a769178b883c",
    "deepnote_cell_type": "code",
    "deepnote_to_be_reexecuted": false,
    "execution_millis": 3,
    "execution_start": 1616768881543,
    "source_hash": "dac4592a",
    "tags": []
   },
   "outputs": [],
   "source": [
    "X = df_final.drop(\"BMI\",axis = 1)\n",
    "Y = df_final[\"BMI\"]"
   ]
  },
  {
   "cell_type": "code",
   "execution_count": 16,
   "metadata": {
    "cell_id": "00009-3022cc8c-320f-45c2-a0f9-f8335f6baca5",
    "deepnote_cell_type": "code",
    "deepnote_to_be_reexecuted": false,
    "execution_millis": 3,
    "execution_start": 1616772776180,
    "source_hash": "7af115d8",
    "tags": []
   },
   "outputs": [],
   "source": [
    "X_train,X_test,Y_train,Y_test = train_test_split(X,Y,random_state=27,test_size = 0.2)"
   ]
  },
  {
   "cell_type": "code",
   "execution_count": 17,
   "metadata": {
    "cell_id": "00009-ea2d99f8-2e15-4e32-a6e5-358db4a28301",
    "deepnote_cell_type": "code",
    "deepnote_to_be_reexecuted": false,
    "execution_millis": 9,
    "execution_start": 1616772776734,
    "source_hash": "79fb5ae1",
    "tags": []
   },
   "outputs": [
    {
     "data": {
      "text/plain": [
       "ExtraTreesRegressor()"
      ]
     },
     "execution_count": 17,
     "metadata": {},
     "output_type": "execute_result"
    }
   ],
   "source": [
    "reg = ExtraTreesRegressor()\n",
    "reg.fit(X_train,Y_train)\n"
   ]
  },
  {
   "cell_type": "code",
   "execution_count": 18,
   "metadata": {},
   "outputs": [],
   "source": [
    "reg_decision = DecisionTreeRegressor()\n"
   ]
  },
  {
   "cell_type": "code",
   "execution_count": 19,
   "metadata": {},
   "outputs": [
    {
     "data": {
      "text/plain": [
       "DecisionTreeRegressor()"
      ]
     },
     "execution_count": 19,
     "metadata": {},
     "output_type": "execute_result"
    }
   ],
   "source": [
    "reg_decision.fit(X_train,Y_train)"
   ]
  },
  {
   "cell_type": "markdown",
   "metadata": {
    "cell_id": "00020-d1ecfbd3-ee74-4eae-a56f-1c1d15607881",
    "deepnote_cell_type": "markdown",
    "tags": []
   },
   "source": [
    "# Predicting the BMI Index"
   ]
  },
  {
   "cell_type": "code",
   "execution_count": 20,
   "metadata": {
    "cell_id": "00009-6c2d7f94-44f1-43e7-84eb-4a84bf46109f",
    "deepnote_cell_type": "code",
    "deepnote_to_be_reexecuted": false,
    "execution_millis": 16,
    "execution_start": 1616772777921,
    "source_hash": "2d151f47",
    "tags": []
   },
   "outputs": [
    {
     "data": {
      "text/plain": [
       "array([18.41872681, 18.40486806, 17.8245782 , ..., 15.8903397 ,\n",
       "       18.09310685, 18.36557131])"
      ]
     },
     "execution_count": 20,
     "metadata": {},
     "output_type": "execute_result"
    }
   ],
   "source": [
    "Y_pred = reg.predict(X_test)\n",
    "Y_pred"
   ]
  },
  {
   "cell_type": "code",
   "execution_count": 21,
   "metadata": {},
   "outputs": [],
   "source": [
    "Y_pred_decision = reg_decision.predict(X_test)"
   ]
  },
  {
   "cell_type": "markdown",
   "metadata": {
    "cell_id": "00022-9840c920-7173-46ee-9ec2-3e3c5dc5bd4b",
    "deepnote_cell_type": "markdown",
    "tags": []
   },
   "source": [
    "# Evaluation Metrics"
   ]
  },
  {
   "cell_type": "code",
   "execution_count": 26,
   "metadata": {
    "cell_id": "00010-4e4b67dd-8faa-4882-9945-a9dd4abd5654",
    "deepnote_cell_type": "code",
    "deepnote_to_be_reexecuted": false,
    "execution_millis": 8,
    "execution_start": 1616772779334,
    "source_hash": "259560f5",
    "tags": []
   },
   "outputs": [
    {
     "name": "stdout",
     "output_type": "stream",
     "text": [
      "0.9996708057625971\n",
      "0.998112290593628\n"
     ]
    }
   ],
   "source": [
    "print(r2_score(Y_pred,Y_test))\n",
    "print(r2_score(Y_pred_decision,Y_test))"
   ]
  },
  {
   "cell_type": "code",
   "execution_count": 23,
   "metadata": {
    "cell_id": "00013-1134d161-72c6-40e6-9d3e-1099b43cde3b",
    "deepnote_cell_type": "code",
    "deepnote_to_be_reexecuted": false,
    "execution_millis": 12,
    "execution_start": 1616772782188,
    "source_hash": "ed86a7b8",
    "tags": []
   },
   "outputs": [
    {
     "name": "stdout",
     "output_type": "stream",
     "text": [
      "0.0007917635688147911\n"
     ]
    }
   ],
   "source": [
    "print(mean_squared_error(Y_pred,Y_test))"
   ]
  },
  {
   "cell_type": "code",
   "execution_count": 24,
   "metadata": {
    "cell_id": "00014-83523058-4f2f-4786-8827-2e677c20f5af",
    "deepnote_cell_type": "code",
    "deepnote_to_be_reexecuted": false,
    "execution_millis": 29,
    "execution_start": 1616772783419,
    "source_hash": "c0399953",
    "tags": []
   },
   "outputs": [
    {
     "name": "stdout",
     "output_type": "stream",
     "text": [
      "1.6082082551770569e-06\n"
     ]
    }
   ],
   "source": [
    "print(mean_squared_log_error(Y_pred,Y_test))"
   ]
  },
  {
   "cell_type": "code",
   "execution_count": 25,
   "metadata": {},
   "outputs": [],
   "source": [
    "pickle.dump(reg_decision,open(\"../models/model_bmi.pkl\",\"wb\"))"
   ]
  },
  {
   "cell_type": "markdown",
   "metadata": {
    "cell_id": "00026-08879880-1530-4a52-ac0f-accd1f75a15b",
    "deepnote_cell_type": "markdown",
    "tags": []
   },
   "source": [
    "<center><img src=\"https://encrypted-tbn0.gstatic.com/images?q=tbn:ANd9GcRWDgteV-sNXVRkc0xwyodmJt18ImebZ1UcKA&amp;usqp=CAU\"></center>"
   ]
  }
 ],
 "metadata": {
  "kernelspec": {
   "display_name": "Python 3 (ipykernel)",
   "language": "python",
   "name": "python3"
  },
  "language_info": {
   "codemirror_mode": {
    "name": "ipython",
    "version": 3
   },
   "file_extension": ".py",
   "mimetype": "text/x-python",
   "name": "python",
   "nbconvert_exporter": "python",
   "pygments_lexer": "ipython3",
   "version": "3.9.12"
  }
 },
 "nbformat": 4,
 "nbformat_minor": 4
}
